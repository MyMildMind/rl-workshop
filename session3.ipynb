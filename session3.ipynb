{
 "cells": [
  {
   "cell_type": "markdown",
   "metadata": {},
   "source": [
    "# Session 3: GET a Taxi with Temporal Difference Learning"
   ]
  },
  {
   "cell_type": "markdown",
   "metadata": {},
   "source": [
    "## Colab Setup"
   ]
  },
  {
   "cell_type": "code",
   "execution_count": 1,
   "metadata": {},
   "outputs": [],
   "source": [
    "#uncomment only if you're running from google colab\n",
    "# !git clone https://github.com/Datatouille/rl-workshop\n",
    "# !mv rl-workshop/* .\n",
    "# !ls\n",
    "# !pip install gym #For full installations, see https://github.com/openai/gym#installation"
   ]
  },
  {
   "cell_type": "markdown",
   "metadata": {},
   "source": [
    "## Imports"
   ]
  },
  {
   "cell_type": "code",
   "execution_count": 2,
   "metadata": {},
   "outputs": [],
   "source": [
    "%matplotlib inline\n",
    "\n",
    "import gym\n",
    "import numpy as np\n",
    "from collections import defaultdict\n",
    "import matplotlib.pyplot as plt\n",
    "import pickle\n",
    "from tqdm import trange\n",
    "import seaborn as sns\n",
    "import pandas as pd\n",
    "from random import random\n",
    "from datetime import datetime\n",
    "import warnings\n",
    "warnings.filterwarnings(\"ignore\")\n",
    "\n",
    "#cross check with our solutions once you finish\n",
    "from solutions.agents import TaxiAgent, BJAgent\n",
    "\n",
    "MODEL_PATH = 'models/'"
   ]
  },
  {
   "cell_type": "markdown",
   "metadata": {},
   "source": [
    "## Recap"
   ]
  },
  {
   "cell_type": "markdown",
   "metadata": {},
   "source": [
    "### Monte Carlo Methods"
   ]
  },
  {
   "cell_type": "markdown",
   "metadata": {},
   "source": [
    "For an arbitrary number of episodes, do:\n",
    "* **Step 1** Run the episode until the end and get a list of transitions $[(s_0,a_0,r_1,s_1), (s_1,a_1,r_2,s_2),...]$ with a random policy\n",
    "* **Step 2** Loop through those transition tuples,\n",
    "    * **Step 2.1** Count number of times a state-action pair appears in the current episode `n_q` (only if it is the first time we saw this state-action pair)\n",
    "    * **Step 2.2** Calculate discounted rewards from the current transition until the end `g` (only if it is the first time we saw this state-action pair)\n",
    "    * **Step 2.3** Add learning rate times the difference between the discounted rewards we just calculate `g` and the existing action value `q`\n",
    "* **Step 3** Update the current policy after a few episodes or after we have trained all episodes\n",
    "\n",
    "**Conceptual Assignment** Is this good enough? How can we do better?"
   ]
  },
  {
   "cell_type": "code",
   "execution_count": 3,
   "metadata": {},
   "outputs": [],
   "source": [
    "def mc_control_glie(self,n_episode=500000,lr=0.,update_every=1):\n",
    "    for t in trange(n_episode):\n",
    "        traversed = []\n",
    "        e = self.get_epsilon(t)\n",
    "        \n",
    "        #step 1\n",
    "        transitions = self.run_episode(e)\n",
    "        states,actions,rewards,next_states,dones = zip(*transitions)\n",
    "\n",
    "        #step 2\n",
    "        for i in range(len(transitions)):\n",
    "            traversed.append((states[i],actions[i]))\n",
    "            #step 2.1\n",
    "            self.n_q[states[i]][actions[i]]+=1\n",
    "            #step 2.2\n",
    "            discounts = np.array([self.gamma**j for j in range(len(transitions)+1)])\n",
    "            g = sum(rewards[i:]*discounts[:-(1+i)])\n",
    "            #step 2.3\n",
    "            alpha = lr if lr > 0 else (1/self.n_q[states[i]][actions[i]])\n",
    "            self.q[states[i]][actions[i]]+= alpha * (g - self.q[states[i]][actions[i]])\n",
    "\n",
    "        #step 3\n",
    "        if t % int(update_every * n_episode - 1)==0:\n",
    "            self.update_policy_q()\n",
    "\n",
    "    self.update_policy_q()"
   ]
  },
  {
   "cell_type": "markdown",
   "metadata": {},
   "source": [
    "## What Can We Improve About Monte Carlo: Temporal Difference Learning"
   ]
  },
  {
   "cell_type": "markdown",
   "metadata": {},
   "source": [
    "Temporal difference (TD) learning is another value-based method for solving a reinforcement learning problem. Main differences between this and the Monte Carlo method we learned are that:\n",
    "\n",
    "* TD updates the Q-values at every time step; we do not need to run an entire episode beforehand\n",
    "* TD updates the policy at every timestep\n",
    "\n",
    "That is probably why it is called **temporal difference** learning."
   ]
  },
  {
   "cell_type": "markdown",
   "metadata": {},
   "source": [
    "## [Taxi-v2](https://github.com/openai/gym/blob/master/gym/envs/toy_text/taxi.py)"
   ]
  },
  {
   "cell_type": "markdown",
   "metadata": {},
   "source": [
    "Taxi-v2 is a reinforcment learning environment described in [Dietterich (2000)](https://arxiv.org/abs/cs/9905014) to demonstrate some issues with hierarchical reinforcement learning. The environment features a 5x5 grid with four locations denoted as red, blue, green and yellow. Our agent is a taxi started at any random position. The goal of the environment is to go pick up a passenger at an arbitrary location then send them to their destination as fast as possible."
   ]
  },
  {
   "cell_type": "code",
   "execution_count": 4,
   "metadata": {},
   "outputs": [],
   "source": [
    "env = gym.make('Taxi-v2')"
   ]
  },
  {
   "cell_type": "markdown",
   "metadata": {},
   "source": [
    "**Coding Assignment** Find out what are the following elements\n",
    "\n",
    "* States:\n",
    "* Actions:\n",
    "* Rewards: "
   ]
  },
  {
   "cell_type": "code",
   "execution_count": 5,
   "metadata": {},
   "outputs": [],
   "source": [
    "\"\"\"\n",
    "Use this cell to try execute the following functions:\n",
    "* env.reset() - reset the environment and return the current state\n",
    "* env.step(action) - take an action at the current state; returns a tuple of (state, reward, done, info)\n",
    "\"\"\"\n",
    "\n",
    "pass"
   ]
  },
  {
   "cell_type": "markdown",
   "metadata": {},
   "source": [
    "### Observation Space (State Space)"
   ]
  },
  {
   "cell_type": "markdown",
   "metadata": {},
   "source": [
    "The state is a single integer from 0 to 499. This is a result of all combinations of:\n",
    "* 25 taxi positions\n",
    "* 5 possible locations of the passenger (including the case when the passenger is the taxi)\n",
    "* 4 destination locations. \n",
    "    "
   ]
  },
  {
   "cell_type": "code",
   "execution_count": 6,
   "metadata": {},
   "outputs": [
    {
     "data": {
      "text/plain": [
       "Discrete(500)"
      ]
     },
     "execution_count": 6,
     "metadata": {},
     "output_type": "execute_result"
    }
   ],
   "source": [
    "env.observation_space"
   ]
  },
  {
   "cell_type": "code",
   "execution_count": 7,
   "metadata": {},
   "outputs": [
    {
     "data": {
      "text/plain": [
       "226"
      ]
     },
     "execution_count": 7,
     "metadata": {},
     "output_type": "execute_result"
    }
   ],
   "source": [
    "env.reset()"
   ]
  },
  {
   "cell_type": "markdown",
   "metadata": {},
   "source": [
    "### Action Space"
   ]
  },
  {
   "cell_type": "markdown",
   "metadata": {},
   "source": [
    "There are 6 discrete deterministic actions:\n",
    "- 0: move south\n",
    "- 1: move north\n",
    "- 2: move east \n",
    "- 3: move west \n",
    "- 4: pickup passenger\n",
    "- 5: dropoff passenger"
   ]
  },
  {
   "cell_type": "code",
   "execution_count": 8,
   "metadata": {},
   "outputs": [
    {
     "data": {
      "text/plain": [
       "Discrete(6)"
      ]
     },
     "execution_count": 8,
     "metadata": {},
     "output_type": "execute_result"
    }
   ],
   "source": [
    "env.action_space"
   ]
  },
  {
   "cell_type": "markdown",
   "metadata": {},
   "source": [
    "### Reward"
   ]
  },
  {
   "cell_type": "markdown",
   "metadata": {},
   "source": [
    "* -1 for each action; to finish the task as fast as possible\n",
    "* +20 for delivering passenger\n",
    "* -10 for doing `pickup` (4) and `dropoff` (5) illegally\n",
    "* No penalty for illegal move (the taxi will remain at the same tile)"
   ]
  },
  {
   "cell_type": "code",
   "execution_count": 9,
   "metadata": {},
   "outputs": [
    {
     "name": "stdout",
     "output_type": "stream",
     "text": [
      "State: 251\n",
      "Action: 0, Next state: 351, Reward: -1\n"
     ]
    }
   ],
   "source": [
    "print(f'State: {env.reset()}')\n",
    "next_tuple = env.step(0)\n",
    "print(f'Action: 0, Next state: {next_tuple[0]}, Reward: {next_tuple[1]}')"
   ]
  },
  {
   "cell_type": "code",
   "execution_count": 10,
   "metadata": {},
   "outputs": [
    {
     "data": {
      "text/plain": [
       "(451, -1, False, {'prob': 1.0})"
      ]
     },
     "execution_count": 10,
     "metadata": {},
     "output_type": "execute_result"
    }
   ],
   "source": [
    "env.step(0)"
   ]
  },
  {
   "cell_type": "markdown",
   "metadata": {},
   "source": [
    "### Rendering"
   ]
  },
  {
   "cell_type": "markdown",
   "metadata": {},
   "source": [
    "- blue: passenger\n",
    "- magenta: destination\n",
    "- yellow: empty taxi\n",
    "- green: full taxi\n",
    "- other letters: locations"
   ]
  },
  {
   "cell_type": "code",
   "execution_count": 11,
   "metadata": {},
   "outputs": [
    {
     "name": "stdout",
     "output_type": "stream",
     "text": [
      "+---------+\n",
      "|R: | : :G|\n",
      "| : : : : |\n",
      "| : : : : |\n",
      "| | : | : |\n",
      "|\u001b[34;1mY\u001b[0m| :\u001b[43m \u001b[0m|\u001b[35mB\u001b[0m: |\n",
      "+---------+\n",
      "  (South)\n"
     ]
    }
   ],
   "source": [
    "env.render(mode = 'human')"
   ]
  },
  {
   "cell_type": "code",
   "execution_count": 12,
   "metadata": {},
   "outputs": [],
   "source": [
    "frames = []\n",
    "illegal_moves = 0\n",
    "illegal_others = 0\n",
    "cumu_reward = 0\n",
    "\n",
    "#get initial state\n",
    "state = env.reset()\n",
    "\n",
    "while True:\n",
    "    #random action\n",
    "    action = env.action_space.sample()\n",
    "    \n",
    "    #step the environment to get (next_state, reward, done, info)\n",
    "    next_state,reward,done,info =  env.step(action)\n",
    "    \n",
    "    #keep records\n",
    "    if state==next_state: illegal_moves+=1\n",
    "    if reward==-10: illegal_others+=1\n",
    "    cumu_reward+=reward\n",
    "    frames.append({\n",
    "        'frame': env.render(mode='ansi'),\n",
    "        'state': state,\n",
    "        'action': action,\n",
    "        'reward': reward,\n",
    "        'cumulative_reward': cumu_reward,\n",
    "        'illegal_moves': illegal_moves,\n",
    "        'illegal_others': illegal_others\n",
    "        })\n",
    "    \n",
    "    #set current state to next state\n",
    "    state = next_state\n",
    "    \n",
    "    #stop game if done; there's a bug with taxi-v2 that cuts your game over if you have not solved it in 200 timesteps\n",
    "#     if done: break\n",
    "    if reward==20: break"
   ]
  },
  {
   "cell_type": "code",
   "execution_count": 13,
   "metadata": {},
   "outputs": [],
   "source": [
    "#stolen from https://www.learndatasci.com/tutorials/reinforcement-q-learning-scratch-python-openai-gym/\n",
    "from IPython.display import clear_output\n",
    "import time\n",
    "\n",
    "def print_frames(frames,wait_time=0.2):\n",
    "    for i, frame in enumerate(frames):\n",
    "        clear_output(wait=True)\n",
    "        print(frame['frame'].getvalue())\n",
    "        print(f\"Timestep: {i + 1}\")\n",
    "        print(f\"State: {frame['state']}\")\n",
    "        print(f\"Action: {frame['action']}\")\n",
    "        print(f\"Reward: {frame['reward']}\")\n",
    "        print(f\"Cumulative Reward: {frame['cumulative_reward']}\")\n",
    "        print(f\"Illegal Moves: {frame['illegal_moves']}\")\n",
    "        print(f\"Illegal Others: {frame['illegal_others']}\")\n",
    "        time.sleep(wait_time)"
   ]
  },
  {
   "cell_type": "code",
   "execution_count": 14,
   "metadata": {},
   "outputs": [
    {
     "name": "stdout",
     "output_type": "stream",
     "text": [
      "+---------+\n",
      "|R: | : :\u001b[35mG\u001b[0m|\n",
      "| : : : : |\n",
      "|\u001b[43m \u001b[0m: : : : |\n",
      "| | : | : |\n",
      "|Y| : |\u001b[34;1mB\u001b[0m: |\n",
      "+---------+\n",
      "  (South)\n",
      "\n",
      "Timestep: 100\n",
      "State: 113\n",
      "Action: 0\n",
      "Reward: -1\n",
      "Cumulative Reward: -388\n",
      "Illegal Moves: 47\n",
      "Illegal Others: 32\n"
     ]
    }
   ],
   "source": [
    "print_frames(frames[:100])"
   ]
  },
  {
   "cell_type": "markdown",
   "metadata": {},
   "source": [
    "### Human Play"
   ]
  },
  {
   "cell_type": "markdown",
   "metadata": {},
   "source": [
    "Play a couple of rounds with your own natural neural networks to get a hang of the environment."
   ]
  },
  {
   "cell_type": "code",
   "execution_count": 15,
   "metadata": {},
   "outputs": [],
   "source": [
    "# state = env.reset()\n",
    "# env.render()\n",
    "\n",
    "# cumu_reward = 0\n",
    "\n",
    "# while True:\n",
    "#     action = int(input('Choose action: '))\n",
    "#     state, reward, done, info = env.step(action)\n",
    "#     cumu_reward+=reward\n",
    "#     clear_output(wait=False)\n",
    "#     env.render()\n",
    "#     print(f'Reward: {reward}')\n",
    "#     print(f'Cumulative Reward: {cumu_reward}')\n",
    "#     if reward==20: break"
   ]
  },
  {
   "cell_type": "markdown",
   "metadata": {},
   "source": [
    "- 0: Down\n",
    "- 1: Up\n",
    "- 2: Right\n",
    "- 3: Left\n",
    "- 4: Pickup\n",
    "- 5: Dropoff"
   ]
  },
  {
   "cell_type": "markdown",
   "metadata": {},
   "source": [
    "### Computer Play"
   ]
  },
  {
   "cell_type": "markdown",
   "metadata": {},
   "source": [
    "Our benchmark will be the final cumulative reward, from now on called `score`, at the end of an episode over time. For instance, when we do 1,000 episodes, as our agent becomes smarter, the cumulative rewards should get better and better. OpenAI uses 100-episode average score as their benchmark for \"solving\" the environment. **The solving score for this environment is 8.5.**\n",
    "\n",
    "**Concept Assignment** Why is it a bad idea to use Monte Carlo method for this environment?"
   ]
  },
  {
   "cell_type": "code",
   "execution_count": 16,
   "metadata": {},
   "outputs": [
    {
     "name": "stderr",
     "output_type": "stream",
     "text": [
      "100%|██████████| 200/200 [00:14<00:00, 13.49it/s]\n"
     ]
    }
   ],
   "source": [
    "scores = []\n",
    "ts = []\n",
    "illegal_moves = []\n",
    "illegal_others = []\n",
    "moving_scores = []\n",
    "moving_nb = 100\n",
    "solved_score = 8.5\n",
    "start_time = datetime.now()\n",
    "\n",
    "for i in trange(200):\n",
    "    #for the record\n",
    "    score = 0\n",
    "    t= 0\n",
    "    illegal_move = 0\n",
    "    illegal_other = 0\n",
    "    \n",
    "    #initiate state\n",
    "    state = env.reset()\n",
    "    while True:\n",
    "        \n",
    "        #get action\n",
    "        action = env.action_space.sample()\n",
    "        \n",
    "        #step environment\n",
    "        next_state, reward, done, info = env.step(action)\n",
    "        \n",
    "        #records\n",
    "        score+=reward\n",
    "        t+=1\n",
    "        if state==next_state: illegal_move+=1\n",
    "        if reward==-10: illegal_other+=1\n",
    "        \n",
    "        #move to next state\n",
    "        state = next_state\n",
    "        \n",
    "        #end if drop off at destination\n",
    "        if reward==20: break\n",
    "            \n",
    "    #record\n",
    "    scores.append(score)\n",
    "    ts.append(t)\n",
    "    illegal_moves.append(illegal_move)\n",
    "    illegal_others.append(illegal_other)\n",
    "    \n",
    "    if i > moving_nb:\n",
    "        moving_score = np.mean(scores[i-moving_nb:i])\n",
    "        moving_scores.append(moving_score)\n",
    "    else:\n",
    "        moving_scores.append(0)\n",
    "        \n",
    "    #break if solved\n",
    "    if moving_scores[-1] > solved_score: \n",
    "        print(f'Solved at Play {i}: {datetime.now() - start_time} Moving average: {moving_scores[-1]}')\n",
    "        break"
   ]
  },
  {
   "cell_type": "code",
   "execution_count": 17,
   "metadata": {},
   "outputs": [
    {
     "name": "stdout",
     "output_type": "stream",
     "text": [
      "100-episode average score: -8339.2\n"
     ]
    },
    {
     "data": {
      "image/png": "[encoded data removed]",
      "text/plain": [
       "<Figure size 432x288 with 1 Axes>"
      ]
     },
     "metadata": {},
     "output_type": "display_data"
    }
   ],
   "source": [
    "plt.plot(scores)\n",
    "plt.plot(moving_scores)\n",
    "print(f'100-episode average score: {moving_scores[-1]}')"
   ]
  },
  {
   "cell_type": "code",
   "execution_count": 18,
   "metadata": {},
   "outputs": [
    {
     "name": "stdout",
     "output_type": "stream",
     "text": [
      "100-episode average timesteps: 2309.4\n"
     ]
    },
    {
     "data": {
      "image/png": "[encoded data removed]",
      "text/plain": [
       "<Figure size 432x288 with 1 Axes>"
      ]
     },
     "metadata": {},
     "output_type": "display_data"
    }
   ],
   "source": [
    "plt.plot(ts)\n",
    "print(f'100-episode average timesteps: {np.mean(ts[:-100])}')"
   ]
  },
  {
   "cell_type": "code",
   "execution_count": 19,
   "metadata": {},
   "outputs": [
    {
     "name": "stdout",
     "output_type": "stream",
     "text": [
      "Illegal moves: 4338; Illegal drop-offs/pickups: 2674\n"
     ]
    },
    {
     "data": {
      "image/png": "[encoded data removed]",
      "text/plain": [
       "<Figure size 432x288 with 1 Axes>"
      ]
     },
     "metadata": {},
     "output_type": "display_data"
    }
   ],
   "source": [
    "plt.plot(illegal_moves)\n",
    "plt.plot(illegal_others)\n",
    "print(f'Illegal moves: {illegal_moves[-1]}; Illegal drop-offs/pickups: {illegal_others[-1]}')"
   ]
  },
  {
   "cell_type": "markdown",
   "metadata": {},
   "source": [
    "## What Does A TD Agent Order at A Mexican Restaurant?"
   ]
  },
  {
   "cell_type": "markdown",
   "metadata": {},
   "source": [
    "SARSA is the most basic of temporal difference learning. It got its name from the tuples we used for the learning:\n",
    "\n",
    "$$S_0 \\rightarrow A_0 \\rightarrow R_1 \\rightarrow S_1 \\rightarrow A_1 \\rightarrow R_2 \\rightarrow S_2 \\rightarrow ... \\rightarrow S_{t-1} \\rightarrow A_{t-1} \\rightarrow R_t \\rightarrow S_{t}$$\n",
    "\n",
    "Remember in Monte Carlo, you estimate the action values by:\n",
    "\n",
    "$$G_t = R_{t} + \\gamma R_{t+1} + ... $$\n",
    "\n",
    "$$Q(s_t,a_t) = \\frac{\\sum_{i=1}^{N(s_t,a_t)} G_i}{N(s_t,a_t)} = E[G(s_t,a_t)]$$\n",
    "\n",
    "where:\n",
    "* $G_t$ is discounted rewards\n",
    "* $R_t$ is the reward for each time step\n",
    "* $Q(s_t,a_t)$ is the action value for that state-action pair\n",
    "* $N(s_t,a_t)$ is the number of time we have seen that state-action pair\n",
    "\n",
    "We need to run the entire episode before updating Q because we need to calculate:\n",
    "\n",
    "$$G_t = R_{t} + \\gamma R_{t+1} + \\gamma^2 R_{t+2} + \\gamma^3 R_{t+3} + ... $$\n",
    "\n",
    "But actually\n",
    "\n",
    "$$G_{t+1} = R_{t+1} + \\gamma R_{t+2} + \\gamma^2 R_{t+3} + ...$$\n",
    "\n",
    "$$G_t = R_t + \\gamma (R_{t+1} + \\gamma R_{t+2} + \\gamma^2 R_{t+3} + ...) = R_t + \\gamma (G_{t+1})$$\n",
    "\n",
    "And since action value $Q(s,a)$ is **expected** discounted rewards, we can substitute $Q(s_{t+1},a_{t+1})$ for $G_{t+1}$. And with each time step, we update the action values as:\n",
    "\n",
    "$$Q(s_t,a_t) = Q(s_t,a_t) + \\alpha (R_{t+1} + Q(s_{t+1},a_{t+1}) - Q(s_t,a_t))$$\n",
    "\n",
    "where $\\alpha$ is the learning rate"
   ]
  },
  {
   "cell_type": "markdown",
   "metadata": {},
   "source": [
    "## Fill in The Code"
   ]
  },
  {
   "cell_type": "code",
   "execution_count": 20,
   "metadata": {},
   "outputs": [],
   "source": [
    "# class TaxiAgent:\n",
    "#     def __init__(self, env, gamma = 0.8, alpha = 1e-1,\n",
    "#                  start_epsilon = 1, end_epsilon = 1e-2, epsilon_decay = 0.999):\n",
    "        \n",
    "#         self.env = env\n",
    "#         self.n_action = self.env.action_space.n\n",
    "#         self.gamma = gamma\n",
    "#         self.alpha = alpha\n",
    "        \n",
    "#         #action values\n",
    "#         self.q = defaultdict(lambda: np.zeros(self.n_action)) #action value\n",
    "        \n",
    "#         #epsilon greedy parameters\n",
    "#         self.start_epsilon = start_epsilon\n",
    "#         self.end_epsilon = end_epsilon\n",
    "#         self.epsilon_decay = epsilon_decay\n",
    "\n",
    "#     #get epsilon\n",
    "#     def get_epsilon(self,n_episode):\n",
    "#         epsilon = max(self.start_epsilon * (self.epsilon_decay ** n_episode), self.end_epsilon)\n",
    "#         return(epsilon)\n",
    "    \n",
    "#     #select action based on epsilon greedy\n",
    "#     def select_action(self,state,epsilon):\n",
    "#         #implicit policy; if we have action values for that state, choose the largest one, else random\n",
    "#         best_action = np.argmax(self.q[state]) if state in self.q else self.env.action_space.sample()\n",
    "#         if random.random() > epsilon:\n",
    "#             action = best_action\n",
    "#         else:\n",
    "#              action = self.env.action_space.sample()\n",
    "#         return(action)\n",
    "    \n",
    "#     def sarsa_update(self, state, action, reward, next_state, n_episode):\n",
    "#         #get next action\n",
    "#         next_action = self.select_action(next_state, self.get_epsilon(n_episode)) \n",
    "#         #get new q\n",
    "#         new_q = reward + (self.gamma * self.q[next_state][next_action])\n",
    "#         #calculate update equation\n",
    "#         self.q[state][action] = self.q[state][action] + (self.alpha * (new_q - self.q[state][action]))\n",
    "        \n",
    "#     def sarsa_max_update(self, state, action, reward, next_state):\n",
    "#         \"\"\"\n",
    "#         Implement your code here\n",
    "#         \"\"\"\n",
    "#         pass\n",
    "        \n",
    "#     def sarsa_expected_update(self, state, action, reward, next_state, n_episode):\n",
    "#         #get next action\n",
    "#         next_action = self.select_action(next_state, self.get_epsilon(n_episode)) \n",
    "#         #get current epsilon\n",
    "#         eps = self.get_epsilon(n_episode)\n",
    "#         #get q value of random portion\n",
    "#         random_q = eps * np.sum((1/self.n_action) * self.q[next_state])\n",
    "#         #get q value of best action\n",
    "#         best_q = (1-eps) * self.q[next_state][next_action]\n",
    "#         #get new q\n",
    "#         new_q = reward + self.gamma * (random_q+best_q)\n",
    "#         #calculate update equation\n",
    "#         self.q[state][action] = self.q[state][action] + (self.alpha * (new_q - self.q[state][action]))"
   ]
  },
  {
   "cell_type": "markdown",
   "metadata": {},
   "source": [
    "## SARSA\n",
    "\n",
    "For every **timestep**\n",
    "* **Step 1** Given state $s_t$, choose an action $a_t$ using epsilon greedy policy\n",
    "* **Step 2** Take that action and observe next state ($s_{t+1}$) and reward ($r_{t+1}$)\n",
    "* **Step 3** Update the action value $Q(s_t,a_t)$ using the equation above"
   ]
  },
  {
   "cell_type": "code",
   "execution_count": 21,
   "metadata": {},
   "outputs": [],
   "source": [
    "a = TaxiAgent(env, gamma = 0.8, alpha = 1e-1,\n",
    "                 start_epsilon = 1, end_epsilon = 1e-2, epsilon_decay = 0.999)"
   ]
  },
  {
   "cell_type": "code",
   "execution_count": 22,
   "metadata": {},
   "outputs": [
    {
     "name": "stderr",
     "output_type": "stream",
     "text": [
      " 18%|█▊        | 17556/100000 [01:08<05:22, 255.37it/s]"
     ]
    },
    {
     "name": "stdout",
     "output_type": "stream",
     "text": [
      "Solved at Play 17580: 0:01:08.773751 Moving average: 8.51\n"
     ]
    }
   ],
   "source": [
    "scores = []\n",
    "ts = []\n",
    "illegal_moves = []\n",
    "illegal_others = []\n",
    "moving_scores = []\n",
    "moving_nb = 100\n",
    "solved_score = 8.5\n",
    "start_time = datetime.now()\n",
    "\n",
    "for i in trange(100000):\n",
    "    #for the record\n",
    "    score = 0\n",
    "    t= 0\n",
    "    illegal_move = 0\n",
    "    illegal_other = 0\n",
    "    \n",
    "    #initiate state\n",
    "    state = env.reset()\n",
    "    while True:\n",
    "        \n",
    "        #get action\n",
    "        action = a.select_action(state, a.get_epsilon(i))\n",
    "        \n",
    "        #step environment\n",
    "        next_state, reward, done, info = env.step(action)\n",
    "        \n",
    "        #update agent\n",
    "        a.sarsa_update(state, action, reward, next_state, i)\n",
    "        \n",
    "        #records\n",
    "        score+=reward\n",
    "        t+=1\n",
    "        if state==next_state: illegal_move+=1\n",
    "        if reward==-10: illegal_other+=1\n",
    "        \n",
    "        #move to next state\n",
    "        state = next_state\n",
    "        \n",
    "        #end if drop off at destination\n",
    "        if reward==20: break\n",
    "            \n",
    "    #record\n",
    "    scores.append(score)\n",
    "    ts.append(t)\n",
    "    illegal_moves.append(illegal_move)\n",
    "    illegal_others.append(illegal_other)\n",
    "    \n",
    "    if i > moving_nb:\n",
    "        moving_score = np.mean(scores[i-moving_nb:i])\n",
    "        moving_scores.append(moving_score)\n",
    "    else:\n",
    "        moving_scores.append(0)\n",
    "        \n",
    "    #break if solved\n",
    "    if moving_scores[-1] > solved_score: \n",
    "        print(f'Solved at Play {i}: {datetime.now() - start_time} Moving average: {moving_scores[-1]}')\n",
    "        break"
   ]
  },
  {
   "cell_type": "code",
   "execution_count": 23,
   "metadata": {},
   "outputs": [
    {
     "name": "stdout",
     "output_type": "stream",
     "text": [
      "100-episode average score: 8.51\n"
     ]
    },
    {
     "data": {
      "image/png": "[encoded data removed]",
      "text/plain": [
       "<Figure size 432x288 with 1 Axes>"
      ]
     },
     "metadata": {},
     "output_type": "display_data"
    }
   ],
   "source": [
    "plt.plot(scores)\n",
    "plt.plot(moving_scores)\n",
    "print(f'100-episode average score: {moving_scores[-1]}')"
   ]
  },
  {
   "cell_type": "code",
   "execution_count": 24,
   "metadata": {},
   "outputs": [
    {
     "name": "stdout",
     "output_type": "stream",
     "text": [
      "100-episode average timesteps: 67.9091013099937\n"
     ]
    },
    {
     "data": {
      "image/png": "[encoded data removed]",
      "text/plain": [
       "<Figure size 432x288 with 1 Axes>"
      ]
     },
     "metadata": {},
     "output_type": "display_data"
    }
   ],
   "source": [
    "plt.plot(ts)\n",
    "print(f'100-episode average timesteps: {np.mean(ts[:-100])}')"
   ]
  },
  {
   "cell_type": "code",
   "execution_count": 25,
   "metadata": {},
   "outputs": [
    {
     "name": "stdout",
     "output_type": "stream",
     "text": [
      "Illegal moves: 1; Illegal drop-offs/pickups: 0\n"
     ]
    },
    {
     "data": {
      "image/png": "[encoded data removed]",
      "text/plain": [
       "<Figure size 432x288 with 1 Axes>"
      ]
     },
     "metadata": {},
     "output_type": "display_data"
    }
   ],
   "source": [
    "plt.plot(illegal_moves)\n",
    "plt.plot(illegal_others)\n",
    "print(f'Illegal moves: {illegal_moves[-1]}; Illegal drop-offs/pickups: {illegal_others[-1]}')"
   ]
  },
  {
   "cell_type": "markdown",
   "metadata": {},
   "source": [
    "## Q-learning aka SARSAMAX"
   ]
  },
  {
   "cell_type": "markdown",
   "metadata": {},
   "source": [
    "Q-learning or SARSAMAX is perhaps the most well-known RL algorithm due to Deepminds' [Playing Atari with Deep Reinforcement Learning](https://www.cs.toronto.edu/~vmnih/docs/dqn.pdf) paper in 2013. There are some significant contributions made by that paper such as using deep learning as function approximation instead of a dictionary, experience replay, and fixed target for learning. But the principle of the learning remains largely the same as the algorithm we will learn today.\n",
    "\n",
    "For every **timestep**\n",
    "* **Step 1** Given state $s_t$, choose an action $a_t$ using epsilon greedy policy\n",
    "* **Step 2** Take that action and observe next state ($s_{t+1}$) and reward ($r_{t+1}$)\n",
    "* **Step 3** Update the action value $Q(s_t,a_t)$ using the following equation:\n",
    "\n",
    "$$Q(s_t,a_t) = Q(s_t,a_t) + \\alpha (R_{t+1} + max_{a}Q(s_{t+1},a) - Q(s_t,a_t))$$\n",
    "\n",
    "where $max_{a}Q(s_{t+1},a)$ is the highest action value given state $s_{t+1}$. \n",
    "\n",
    "This is very similar to SARSA except for the fact that we will always choose the best action value as opposed to epsilon-greedy action selection of SARSA. For this reason, SARSA is called **on-policy** and Q-learning **off-policy**.\n",
    "\n",
    "**Coding Assignment** Implement Q-learning in `sarsa_max_update` method"
   ]
  },
  {
   "cell_type": "code",
   "execution_count": 26,
   "metadata": {},
   "outputs": [],
   "source": [
    "a = TaxiAgent(env, gamma = 0.8, alpha = 1e-1,\n",
    "                 start_epsilon = 1, end_epsilon = 1e-2, epsilon_decay = 0.999)"
   ]
  },
  {
   "cell_type": "code",
   "execution_count": 27,
   "metadata": {},
   "outputs": [
    {
     "name": "stderr",
     "output_type": "stream",
     "text": [
      " 18%|█▊        | 17556/100000 [01:20<06:15, 219.33it/s]"
     ]
    },
    {
     "name": "stdout",
     "output_type": "stream",
     "text": [
      "Solved at Play 4427: 0:00:15.444494 Moving average: 8.52\n"
     ]
    }
   ],
   "source": [
    "scores = []\n",
    "ts = []\n",
    "illegal_moves = []\n",
    "illegal_others = []\n",
    "moving_scores = []\n",
    "moving_nb = 100\n",
    "solved_score = 8.5\n",
    "start_time = datetime.now()\n",
    "\n",
    "for i in range(100000):\n",
    "    #for the record\n",
    "    score = 0\n",
    "    t= 0\n",
    "    illegal_move = 0\n",
    "    illegal_other = 0\n",
    "    \n",
    "    #initiate state\n",
    "    state = env.reset()\n",
    "    while True:\n",
    "        \n",
    "        #get action\n",
    "        action = a.select_action(state, a.get_epsilon(i))\n",
    "        \n",
    "        #step environment\n",
    "        next_state, reward, done, info = env.step(action)\n",
    "        \n",
    "        #update agent\n",
    "        a.sarsa_max_update(state, action, reward, next_state)\n",
    "        \n",
    "        #records\n",
    "        score+=reward\n",
    "        t+=1\n",
    "        if state==next_state: illegal_move+=1\n",
    "        if reward==-10: illegal_other+=1\n",
    "        \n",
    "        #move to next state\n",
    "        state = next_state\n",
    "        \n",
    "        #end if drop off at destination\n",
    "        if reward==20: break\n",
    "            \n",
    "    #record\n",
    "    scores.append(score)\n",
    "    ts.append(t)\n",
    "    illegal_moves.append(illegal_move)\n",
    "    illegal_others.append(illegal_other)\n",
    "    \n",
    "    if i > moving_nb:\n",
    "        moving_score = np.mean(scores[i-moving_nb:i])\n",
    "        moving_scores.append(moving_score)\n",
    "    else:\n",
    "        moving_scores.append(0)\n",
    "        \n",
    "    #break if solved\n",
    "    if moving_scores[-1] > solved_score: \n",
    "        print(f'Solved at Play {i}: {datetime.now() - start_time} Moving average: {moving_scores[-1]}')\n",
    "        break"
   ]
  },
  {
   "cell_type": "code",
   "execution_count": 28,
   "metadata": {},
   "outputs": [
    {
     "name": "stdout",
     "output_type": "stream",
     "text": [
      "100-episode average score: 8.52\n"
     ]
    },
    {
     "data": {
      "image/png": "[encoded data removed]",
      "text/plain": [
       "<Figure size 432x288 with 1 Axes>"
      ]
     },
     "metadata": {},
     "output_type": "display_data"
    }
   ],
   "source": [
    "plt.plot(scores)\n",
    "plt.plot(moving_scores)\n",
    "print(f'100-episode average score: {moving_scores[-1]}')"
   ]
  },
  {
   "cell_type": "code",
   "execution_count": 29,
   "metadata": {},
   "outputs": [
    {
     "name": "stdout",
     "output_type": "stream",
     "text": [
      "100-episode average timesteps: 56.383780036968574\n"
     ]
    },
    {
     "data": {
      "image/png": "[encoded data removed]",
      "text/plain": [
       "<Figure size 432x288 with 1 Axes>"
      ]
     },
     "metadata": {},
     "output_type": "display_data"
    }
   ],
   "source": [
    "plt.plot(ts)\n",
    "print(f'100-episode average timesteps: {np.mean(ts[:-100])}')"
   ]
  },
  {
   "cell_type": "code",
   "execution_count": 30,
   "metadata": {},
   "outputs": [
    {
     "name": "stdout",
     "output_type": "stream",
     "text": [
      "Illegal moves: 1; Illegal drop-offs/pickups: 0\n"
     ]
    },
    {
     "data": {
      "image/png": "[encoded data removed]",
      "text/plain": [
       "<Figure size 432x288 with 1 Axes>"
      ]
     },
     "metadata": {},
     "output_type": "display_data"
    }
   ],
   "source": [
    "plt.plot(illegal_moves)\n",
    "plt.plot(illegal_others)\n",
    "print(f'Illegal moves: {illegal_moves[-1]}; Illegal drop-offs/pickups: {illegal_others[-1]}')"
   ]
  },
  {
   "cell_type": "markdown",
   "metadata": {},
   "source": [
    "## Expected SARSA"
   ]
  },
  {
   "cell_type": "markdown",
   "metadata": {},
   "source": [
    "Expected SARSA is another way we can update the Q values, not with maximum action values but with all the actions value weighted by their probability (in our case of the epsilon-greedy policy).\n",
    "\n",
    "For every **timestep**\n",
    "* **Step 1** Given state $s_t$, choose an action $a_t$ using epsilon greedy policy\n",
    "* **Step 2** Take that action and observe next state ($s_{t+1}$) and reward ($r_{t+1}$)\n",
    "* **Step 3** Update the action value $Q(s_t,a_t)$ using the following equation:\n",
    "\n",
    "$$Q(s_t,a_t) = Q(s_t,a_t) + \\alpha (R_{t+1} + \\sum_{a}\\pi(a|s_{t+1})Q(s_{t+1},a) - Q(s_t,a_t))$$\n",
    "\n",
    "where $\\pi(a|s_{t+1})$ is the probability of taking an action $a$."
   ]
  },
  {
   "cell_type": "code",
   "execution_count": 31,
   "metadata": {},
   "outputs": [],
   "source": [
    "a = TaxiAgent(env, gamma = 0.8, alpha = 1e-1,\n",
    "                 start_epsilon = 1e-1, end_epsilon = 1e-2, epsilon_decay = 0.999)"
   ]
  },
  {
   "cell_type": "code",
   "execution_count": 32,
   "metadata": {},
   "outputs": [
    {
     "name": "stdout",
     "output_type": "stream",
     "text": [
      "Solved at Play 3480: 0:00:09.199683 Moving average: 8.54\n"
     ]
    }
   ],
   "source": [
    "scores = []\n",
    "ts = []\n",
    "illegal_moves = []\n",
    "illegal_others = []\n",
    "moving_scores = []\n",
    "moving_nb = 100\n",
    "solved_score = 8.5\n",
    "start_time = datetime.now()\n",
    "\n",
    "for i in range(100000):\n",
    "    #for the record\n",
    "    score = 0\n",
    "    t= 0\n",
    "    illegal_move = 0\n",
    "    illegal_other = 0\n",
    "    \n",
    "    #initiate state\n",
    "    state = env.reset()\n",
    "    while True:\n",
    "        \n",
    "        #get action\n",
    "        action = a.select_action(state, a.get_epsilon(i))\n",
    "        \n",
    "        #step environment\n",
    "        next_state, reward, done, info = env.step(action)\n",
    "        \n",
    "        #update agent\n",
    "        a.sarsa_expected_update(state, action, reward, next_state, i)\n",
    "        \n",
    "        #records\n",
    "        score+=reward\n",
    "        t+=1\n",
    "        if state==next_state: illegal_move+=1\n",
    "        if reward==-10: illegal_other+=1\n",
    "        \n",
    "        #move to next state\n",
    "        state = next_state\n",
    "        \n",
    "        #end if drop off at destination\n",
    "        if reward==20: break\n",
    "            \n",
    "    #record\n",
    "    scores.append(score)\n",
    "    ts.append(t)\n",
    "    illegal_moves.append(illegal_move)\n",
    "    illegal_others.append(illegal_other)\n",
    "    \n",
    "    if i > moving_nb:\n",
    "        moving_score = np.mean(scores[i-moving_nb:i])\n",
    "        moving_scores.append(moving_score)\n",
    "    else:\n",
    "        moving_scores.append(0)\n",
    "        \n",
    "    #break if solved\n",
    "    if moving_scores[-1] > solved_score: \n",
    "        print(f'Solved at Play {i}: {datetime.now() - start_time} Moving average: {moving_scores[-1]}')\n",
    "        break"
   ]
  },
  {
   "cell_type": "code",
   "execution_count": 33,
   "metadata": {},
   "outputs": [
    {
     "name": "stdout",
     "output_type": "stream",
     "text": [
      "100-episode average score: 8.54\n"
     ]
    },
    {
     "data": {
      "image/png": "[encoded data removed]",
      "text/plain": [
       "<Figure size 432x288 with 1 Axes>"
      ]
     },
     "metadata": {},
     "output_type": "display_data"
    }
   ],
   "source": [
    "plt.plot(scores)\n",
    "plt.plot(moving_scores)\n",
    "print(f'100-episode average score: {moving_scores[-1]}')"
   ]
  },
  {
   "cell_type": "code",
   "execution_count": 34,
   "metadata": {},
   "outputs": [
    {
     "name": "stdout",
     "output_type": "stream",
     "text": [
      "100-episode average timesteps: 36.90417036379769\n"
     ]
    },
    {
     "data": {
      "image/png": "[encoded data removed]",
      "text/plain": [
       "<Figure size 432x288 with 1 Axes>"
      ]
     },
     "metadata": {},
     "output_type": "display_data"
    }
   ],
   "source": [
    "plt.plot(ts)\n",
    "print(f'100-episode average timesteps: {np.mean(ts[:-100])}')"
   ]
  },
  {
   "cell_type": "code",
   "execution_count": 35,
   "metadata": {},
   "outputs": [
    {
     "name": "stdout",
     "output_type": "stream",
     "text": [
      "Illegal moves: 1; Illegal drop-offs/pickups: 0\n"
     ]
    },
    {
     "data": {
      "image/png": "[encoded data removed]",
      "text/plain": [
       "<Figure size 432x288 with 1 Axes>"
      ]
     },
     "metadata": {},
     "output_type": "display_data"
    }
   ],
   "source": [
    "plt.plot(illegal_moves)\n",
    "plt.plot(illegal_others)\n",
    "print(f'Illegal moves: {illegal_moves[-1]}; Illegal drop-offs/pickups: {illegal_others[-1]}')"
   ]
  },
  {
   "cell_type": "markdown",
   "metadata": {},
   "source": [
    "## See A Smart Agent Play"
   ]
  },
  {
   "cell_type": "code",
   "execution_count": 40,
   "metadata": {},
   "outputs": [],
   "source": [
    "frames = []\n",
    "illegal_moves = 0\n",
    "illegal_others = 0\n",
    "cumu_reward = 0\n",
    "\n",
    "#get initial state\n",
    "state = env.reset()\n",
    "\n",
    "while True:\n",
    "    #best action\n",
    "    action = a.select_action(state, a.get_epsilon(1e6))\n",
    "    \n",
    "    #step the environment to get (next_state, reward, done, info)\n",
    "    next_state,reward,done,info =  env.step(action)\n",
    "    \n",
    "    #keep records\n",
    "    if state==next_state: illegal_moves+=1\n",
    "    if reward==-10: illegal_others+=1\n",
    "    cumu_reward+=reward\n",
    "    frames.append({\n",
    "        'frame': env.render(mode='ansi'),\n",
    "        'state': state,\n",
    "        'action': action,\n",
    "        'reward': reward,\n",
    "        'cumulative_reward': cumu_reward,\n",
    "        'illegal_moves': illegal_moves,\n",
    "        'illegal_others': illegal_others\n",
    "        })\n",
    "    \n",
    "    #set current state to next state\n",
    "    state = next_state\n",
    "    \n",
    "    #stop game if done; there's a bug with taxi-v2 that cuts your game over if you have not solved it in 200 timesteps\n",
    "    if reward==20: break"
   ]
  },
  {
   "cell_type": "code",
   "execution_count": 41,
   "metadata": {},
   "outputs": [
    {
     "data": {
      "text/plain": [
       "16"
      ]
     },
     "execution_count": 41,
     "metadata": {},
     "output_type": "execute_result"
    }
   ],
   "source": [
    "len(frames)"
   ]
  },
  {
   "cell_type": "code",
   "execution_count": 42,
   "metadata": {},
   "outputs": [
    {
     "name": "stdout",
     "output_type": "stream",
     "text": [
      "+---------+\n",
      "|R: | : :\u001b[35m\u001b[42mG\u001b[0m\u001b[0m|\n",
      "| : : : : |\n",
      "| : : : : |\n",
      "| | : | : |\n",
      "|Y| : |B: |\n",
      "+---------+\n",
      "  (Dropoff)\n",
      "\n",
      "Timestep: 16\n",
      "State: 97\n",
      "Action: 5\n",
      "Reward: 20\n",
      "Cumulative Reward: 5\n",
      "Illegal Moves: 1\n",
      "Illegal Others: 0\n"
     ]
    }
   ],
   "source": [
    "print_frames(frames)"
   ]
  },
  {
   "cell_type": "markdown",
   "metadata": {},
   "source": [
    "## Coding Assignment"
   ]
  },
  {
   "cell_type": "markdown",
   "metadata": {},
   "source": [
    "The OpenAI scoreboard lists 9.7 as the high score. This requires you to do some hyperparameter tuning over time of gamma, alpha and epsilon. Try to implement `get_alpha` and `get_gamma` methods in addition to `get_epsilon` and increase/decrease your hyperparameters as the training goes on. Here are some hints:\n",
    "\n",
    "* `gamma`: you would want to focus more on near-term rewards as time goes on as your agent is more aware of the action values of the states\n",
    "* `alpha`: you would want to learn more slowly as time goes on as your agent has already accumulated a lot of knowledge about the environment\n",
    "* `epsilon`: you would want to do less random action as time goes on as your best actions are probably really best.\n",
    "\n",
    "<img src=\"img/taxi_scores.PNG\" alt=\"OpenAI Learderboard\" />"
   ]
  },
  {
   "cell_type": "markdown",
   "metadata": {},
   "source": [
    "## Challenges"
   ]
  },
  {
   "cell_type": "markdown",
   "metadata": {},
   "source": [
    "Solve an environment with continuous states using discretization, tile coding, or other advanced methods\n",
    "\n",
    "* Acrobat-v1\n",
    "* MountainCar-v0\n",
    "* CartPole-v0\n",
    "* LunarLander-v2\n",
    "    \n",
    "Points to consider\n",
    "* What are other ways of handling continuous states? (See tile coding)\n",
    "* What are the state space, action space, and rewards of the environment?\n",
    "* What algorithms did you use to solve the environment and why?\n",
    "* How many episodes did you solve it in? Can you improve the performance? (Tweaking discount factor, learning rate, Monte Carlo vs TD)\n"
   ]
  },
  {
   "cell_type": "markdown",
   "metadata": {},
   "source": [
    "## References"
   ]
  },
  {
   "cell_type": "markdown",
   "metadata": {},
   "source": [
    "* Dietterich, T. G. (2000). Hierarchical Reinforcement Learning with the MAXQ Value Function Decomposition. Journal of Artificial Intelligence Research, 13, 227-303. doi:10.1613/jair.639\n",
    "* Mnih, V., Kavukcuoglu, K., Silver, D., Graves, A., Antonoglou, I., Wierstra, D., and Riedmiller, M.\n",
    "(Dec 2013). Playing Atari with deep reinforcement learning. Technical Report arXiv:1312.5602\n",
    "[cs.LG], Deepmind Technologies"
   ]
  },
  {
   "cell_type": "code",
   "execution_count": null,
   "metadata": {},
   "outputs": [],
   "source": []
  }
 ],
 "metadata": {
  "kernelspec": {
   "display_name": "Python 3",
   "language": "python",
   "name": "python3"
  },
  "language_info": {
   "codemirror_mode": {
    "name": "ipython",
    "version": 3
   },
   "file_extension": ".py",
   "mimetype": "text/x-python",
   "name": "python",
   "nbconvert_exporter": "python",
   "pygments_lexer": "ipython3",
   "version": "3.6.6"
  }
 },
 "nbformat": 4,
 "nbformat_minor": 2
}
