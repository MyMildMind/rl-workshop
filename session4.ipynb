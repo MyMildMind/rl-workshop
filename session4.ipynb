{
 "cells": [
  {
   "cell_type": "markdown",
   "metadata": {},
   "source": [
    "# Session 4: Policy-gradient Pong"
   ]
  },
  {
   "cell_type": "markdown",
   "metadata": {},
   "source": [
    "## Setups"
   ]
  },
  {
   "cell_type": "code",
   "execution_count": 1,
   "metadata": {},
   "outputs": [],
   "source": [
    "# #uncomment only if you're running from google colab\n",
    "# !git clone https://github.com/Datatouille/rl-workshop\n",
    "# !mv rl-workshop/* .\n",
    "# !ls\n",
    "# !pip install gym[atari] #For full installations, see https://github.com/openai/gym#installation\n",
    "# !pip install numpy torchvision_nightly\n",
    "# !pip install torch_nightly -f https://download.pytorch.org/whl/nightly/cu92/torch_nightly.html\n",
    "# import torch\n",
    "# torch.__version__"
   ]
  },
  {
   "cell_type": "markdown",
   "metadata": {},
   "source": [
    "## Imports"
   ]
  },
  {
   "cell_type": "code",
   "execution_count": 1,
   "metadata": {},
   "outputs": [],
   "source": [
    "%matplotlib inline\n",
    "\n",
    "#environments\n",
    "import gym\n",
    "from solutions.environments import Gridworld\n",
    "\n",
    "#torch\n",
    "import torch\n",
    "import torch.nn as nn\n",
    "import torch.nn.functional as F\n",
    "from torch import optim\n",
    "#use cuda 0 if available; assuming 1 gpu\n",
    "device = torch.device(\"cuda:0\" if torch.cuda.is_available() else \"cpu\")\n",
    "\n",
    "#misc\n",
    "import numpy as np\n",
    "import matplotlib.pyplot as plt\n",
    "from tqdm import trange\n",
    "from datetime import datetime\n",
    "from collections import Counter\n",
    "import warnings\n",
    "warnings.filterwarnings(\"ignore\")\n",
    "\n",
    "MODEL_PATH = 'models/'"
   ]
  },
  {
   "cell_type": "markdown",
   "metadata": {},
   "source": [
    "## Recap"
   ]
  },
  {
   "cell_type": "markdown",
   "metadata": {},
   "source": [
    "Environments we have solved so far:\n",
    "* Gridworld\n",
    "* Blackjack-v0\n",
    "* Taxi-v2\n",
    "\n",
    "**Coding Assignment** What do they have in common? Find out what are the states and actions of each environment above."
   ]
  },
  {
   "cell_type": "code",
   "execution_count": 2,
   "metadata": {},
   "outputs": [
    {
     "data": {
      "text/plain": [
       "'\\nWrite your code here\\n'"
      ]
     },
     "execution_count": 2,
     "metadata": {},
     "output_type": "execute_result"
    }
   ],
   "source": [
    "#create environments\n",
    "gridworld_env = Gridworld()\n",
    "bj_env = gym.make('Blackjack-v0')\n",
    "taxi_env = gym.make('Taxi-v2')\n",
    "\n",
    "'''\n",
    "Write your code here\n",
    "'''"
   ]
  },
  {
   "cell_type": "markdown",
   "metadata": {},
   "source": [
    "**Hints** \n",
    "* `env.reset()` returns the initial state of an environment.\n",
    "* `env.action_space` returns the action space of the environment.\n",
    "* `env.observation_space` or `env.state_space` returns the state space of the environment."
   ]
  },
  {
   "cell_type": "markdown",
   "metadata": {},
   "source": [
    "## What Got You Here Will Not Take You There"
   ]
  },
  {
   "cell_type": "markdown",
   "metadata": {},
   "source": [
    "So far our methods of finding the optimal policy has been:\n",
    "\n",
    "1. Predict the action values given a state using either **a sample of transitions (Monte Carlo)** or **previous action values (Temporal Difference)**.\n",
    "2. Store those values in a dictionary `Q[state][action]`\n",
    "3. To perform an optimal action, choose the action index which gives the highest action value in the dictionary.\n",
    "\n",
    "But what if we have infinitely many states?"
   ]
  },
  {
   "cell_type": "markdown",
   "metadata": {},
   "source": [
    "## [Pong-v0](https://github.com/openai/gym/blob/master/gym/envs/atari/atari_env.py)"
   ]
  },
  {
   "cell_type": "markdown",
   "metadata": {},
   "source": [
    "One of the most influential articles on deep reinforcement is Andrej Karpathy's [Deep Reinforcement Learning: Pong from Pixels](https://karpathy.github.io/2016/05/31/rl/), where he details how to train an agent that learns to play Atari Pong from raw pixels using a technique called **policy gradient**. This session will borrow heavily from this article as well as [a lecture by David Silver](http://www0.cs.ucl.ac.uk/staff/D.Silver/web/Teaching_files/pg.pdf).\n",
    "\n",
    "If you are too young to be familiar with Pong, try it [here](http://www.pongonline.net/)."
   ]
  },
  {
   "cell_type": "code",
   "execution_count": 4,
   "metadata": {},
   "outputs": [
    {
     "data": {
      "text/html": [
       "<iframe width=\"560\" height=\"315\" src=\"https://www.youtube.com/embed/YOW8m2YGtRg\" frameborder=\"0\" allow=\"accelerometer; autoplay; encrypted-media; gyroscope; picture-in-picture\" allowfullscreen></iframe>"
      ],
      "text/plain": [
       "<IPython.core.display.HTML object>"
      ]
     },
     "metadata": {},
     "output_type": "display_data"
    }
   ],
   "source": [
    "%%HTML\n",
    "<iframe width=\"560\" height=\"315\" src=\"https://www.youtube.com/embed/YOW8m2YGtRg\" frameborder=\"0\" allow=\"accelerometer; autoplay; encrypted-media; gyroscope; picture-in-picture\" allowfullscreen></iframe>"
   ]
  },
  {
   "cell_type": "markdown",
   "metadata": {},
   "source": [
    "**Coding Assignment** Before we dive in, let us do some warm-up exercises of finding out more about `PongDeterministic-v0`\n",
    "\n",
    "* State space\n",
    "* Action space\n",
    "* Rewards\n",
    "* How many episodes on average with random actions\n",
    "* Render one frame and see how it looks like"
   ]
  },
  {
   "cell_type": "code",
   "execution_count": 4,
   "metadata": {},
   "outputs": [
    {
     "name": "stdout",
     "output_type": "stream",
     "text": [
      "Each action index means: ['NOOP', 'FIRE', 'RIGHT', 'LEFT', 'RIGHTFIRE', 'LEFTFIRE']\n"
     ]
    },
    {
     "data": {
      "text/plain": [
       "'\\nWrite your code here\\n'"
      ]
     },
     "execution_count": 4,
     "metadata": {},
     "output_type": "execute_result"
    }
   ],
   "source": [
    "#create environment\n",
    "env = gym.make('PongDeterministic-v0')\n",
    "env.reset()\n",
    "print(f'Each action index means: {env.unwrapped.get_action_meanings()}')\n",
    "\n",
    "'''\n",
    "Write your code here\n",
    "'''"
   ]
  },
  {
   "cell_type": "markdown",
   "metadata": {},
   "source": [
    "## Monte Carlo Policy Gradient aka Vanilla Policy Gradient REINFORCE aka Stochastic Policy Gradient"
   ]
  },
  {
   "cell_type": "markdown",
   "metadata": {},
   "source": [
    "The gist of it is that instead of using the three steps we have done so far, we do:\n",
    "\n",
    "1. Get rid of the Q dictionary altogether.\n",
    "2. Use a neural network called **policy network** that takes the input of state (pixels) and outputs which action to take as our policy.\n",
    "3. Get **a sample of transitions and discounted rewards** based on that neural network.\n",
    "4. Optimize the policy network to maximize the **expected discounted rewards** using **gradient ascent**.\n",
    "\n",
    "<img src=\"img/pong_pg.png\" alt=\"Pong Policy Gradient\"/>"
   ]
  },
  {
   "cell_type": "markdown",
   "metadata": {},
   "source": [
    "### Preprocess Input"
   ]
  },
  {
   "cell_type": "markdown",
   "metadata": {},
   "source": [
    "Instead of taking the entire height (210) * width (160) * color channels (3) = 100,800 pixels for input, we prepocess to a black-and-white 80 * 80 image."
   ]
  },
  {
   "cell_type": "code",
   "execution_count": 6,
   "metadata": {},
   "outputs": [
    {
     "name": "stdout",
     "output_type": "stream",
     "text": [
      "(210, 160, 3)\n"
     ]
    },
    {
     "data": {
      "text/plain": [
       "<matplotlib.image.AxesImage at 0x7f2199cdce48>"
      ]
     },
     "execution_count": 6,
     "metadata": {},
     "output_type": "execute_result"
    },
    {
     "data": {
      "image/png": "[encoded data removed]",
      "text/plain": [
       "<Figure size 432x288 with 1 Axes>"
      ]
     },
     "metadata": {},
     "output_type": "display_data"
    }
   ],
   "source": [
    "env.reset()\n",
    "for i in range(50): \n",
    "    action = np.random.choice([2,3])\n",
    "    state, reward, done, info = env.step(action)\n",
    "pre_img = state\n",
    "print(pre_img.shape)\n",
    "plt.imshow(pre_img)"
   ]
  },
  {
   "cell_type": "code",
   "execution_count": 7,
   "metadata": {},
   "outputs": [],
   "source": [
    "#adapted from https://gist.github.com/karpathy/a4166c7fe253700972fcbc77e4ea32c5\n",
    "def preprocess_state(I):\n",
    "    I = I[35:195] # crop\n",
    "    I = I[::2,::2,0] # downsample by factor of 2\n",
    "    I[I == 144] = 0 # erase background (background type 1)\n",
    "    I[I == 109] = 0 # erase background (background type 2)\n",
    "    I[I != 0] = 1 # everything else (paddles, ball) just set to 1\n",
    "    res = I.astype(np.float).reshape(-1)\n",
    "    return(res)"
   ]
  },
  {
   "cell_type": "code",
   "execution_count": 8,
   "metadata": {},
   "outputs": [
    {
     "name": "stdout",
     "output_type": "stream",
     "text": [
      "(6400,)\n"
     ]
    },
    {
     "data": {
      "text/plain": [
       "<matplotlib.image.AxesImage at 0x7f2199cc3940>"
      ]
     },
     "execution_count": 8,
     "metadata": {},
     "output_type": "execute_result"
    },
    {
     "data": {
      "image/png": "[encoded data removed]",
      "text/plain": [
       "<Figure size 432x288 with 1 Axes>"
      ]
     },
     "metadata": {},
     "output_type": "display_data"
    }
   ],
   "source": [
    "post_img = preprocess_state(pre_img)\n",
    "print(post_img.shape)\n",
    "plt.imshow(post_img.reshape(80,80), 'gray')"
   ]
  },
  {
   "cell_type": "markdown",
   "metadata": {},
   "source": [
    "### Policy Network"
   ]
  },
  {
   "cell_type": "markdown",
   "metadata": {},
   "source": [
    "We use a policy network that takes an input of state and output the probability of taking an action directly. That is, we are not estimating the action value function $Q(s,a)$ but directly the policy function $\\pi(a|s)$."
   ]
  },
  {
   "cell_type": "code",
   "execution_count": 9,
   "metadata": {},
   "outputs": [],
   "source": [
    "class PolicyNet(nn.Module):\n",
    "    def __init__(self, input_size, hidden_size, output_size):\n",
    "        super(PolicyNet, self).__init__()\n",
    "        self.fc1 = nn.Linear(input_size,hidden_size)\n",
    "        self.fc2 = nn.Linear(hidden_size,output_size)\n",
    "        \n",
    "    def forward(self,x):\n",
    "        x = F.relu(self.fc1(x))\n",
    "        x = F.softmax(self.fc2(x),1)\n",
    "        return(x)\n",
    "    \n",
    "#initiate random policy\n",
    "policy = PolicyNet(6400,512,2)\n",
    "optimizer = optim.Adam(policy.parameters(), lr=1e-3)"
   ]
  },
  {
   "cell_type": "code",
   "execution_count": 10,
   "metadata": {},
   "outputs": [
    {
     "data": {
      "text/plain": [
       "torch.Size([1, 6400])"
      ]
     },
     "execution_count": 10,
     "metadata": {},
     "output_type": "execute_result"
    }
   ],
   "source": [
    "state = env.reset()\n",
    "x = torch.FloatTensor(preprocess_state((state)))[None]\n",
    "x.shape"
   ]
  },
  {
   "cell_type": "code",
   "execution_count": 11,
   "metadata": {},
   "outputs": [
    {
     "data": {
      "text/plain": [
       "tensor([[0.4939, 0.5061]], grad_fn=<SoftmaxBackward>)"
      ]
     },
     "execution_count": 11,
     "metadata": {},
     "output_type": "execute_result"
    }
   ],
   "source": [
    "#policy probability; pi\n",
    "#function output log softmax\n",
    "pi = policy(x)\n",
    "pi"
   ]
  },
  {
   "cell_type": "code",
   "execution_count": 12,
   "metadata": {},
   "outputs": [
    {
     "data": {
      "text/plain": [
       "3"
      ]
     },
     "execution_count": 12,
     "metadata": {},
     "output_type": "execute_result"
    }
   ],
   "source": [
    "#choose action; +2 because the indice we want are 2 and 3\n",
    "np.random.choice([2,3], p = pi.squeeze().detach().numpy())"
   ]
  },
  {
   "cell_type": "markdown",
   "metadata": {},
   "source": [
    "**Coding Assignment** Use the randomly initiated policy network to play the game for 30 episodes. \n",
    "* What is the average reward across all episodes?\n",
    "* How many times the agent chose to go left or right?\n",
    "\n",
    "Note that in line with [Karpathy's implementation](https://gist.github.com/karpathy/a4166c7fe253700972fcbc77e4ea32c5), we will be using the difference of frames as our state."
   ]
  },
  {
   "cell_type": "code",
   "execution_count": 264,
   "metadata": {},
   "outputs": [],
   "source": [
    "scores = []\n",
    "actions = []\n",
    "\n",
    "for i in range(30):\n",
    "    #initial state\n",
    "    state = preprocess_state(env.reset())\n",
    "    previous_state = None\n",
    "    \n",
    "    #start game\n",
    "    env.step(1)\n",
    "    #do some random steps\n",
    "    for i in range(10): \n",
    "        action = np.random.choice([2,3])\n",
    "        env.step(action)\n",
    "    \n",
    "    score = 0\n",
    "    while True:\n",
    "        #get input state as difference between two states\n",
    "        current_state = state\n",
    "        input_state = current_state - previous_state if previous_state is not None else np.zeros(80*80)\n",
    "        previous_state = current_state\n",
    "        #convert input to tensor\n",
    "        state_tensor = torch.FloatTensor(input_state)[None]\n",
    "\n",
    "        '''\n",
    "        Write codes to get probability and choose action here\n",
    "        '''\n",
    "        \n",
    "        #record action\n",
    "        actions.append(action)\n",
    "        #environment step\n",
    "        state, reward, done, info = env.step(action)\n",
    "        #record score\n",
    "        score+=reward\n",
    "        #preprocess new state\n",
    "        state = preprocess_state(state)\n",
    "        if done: break\n",
    "    #append scores\n",
    "    scores.append(score)\n",
    "    \n",
    "plt.hist(scores)\n",
    "print(np.mean(scores))\n",
    "print(Counter(actions))"
   ]
  },
  {
   "cell_type": "markdown",
   "metadata": {},
   "source": [
    "### Trajectories"
   ]
  },
  {
   "cell_type": "markdown",
   "metadata": {},
   "source": [
    "With Monte Carlo methods, we collect all state-action pairs in an episode then update the Q dictionary once the episode ends. It is not very efficient since we always have to wait for the end of the episode. Here instead we will come up with an arbitrary number of timesteps and treat it as though it is an episode, calling it **trajectory**."
   ]
  },
  {
   "cell_type": "code",
   "execution_count": 13,
   "metadata": {},
   "outputs": [],
   "source": [
    "#for a single episode\n",
    "def get_trajectories(policy, env, t_max=300):\n",
    "    trajectories = []\n",
    "\n",
    "    #initialize state\n",
    "    state = preprocess_state(env.reset())\n",
    "    previous_state = None\n",
    "    \n",
    "    #start game\n",
    "    env.step(1)\n",
    "    #do some random steps\n",
    "    for i in range(10): \n",
    "        action = np.random.choice([2,3])\n",
    "        env.step(action)\n",
    "\n",
    "    while True:\n",
    "        #each trajectory\n",
    "        states= []\n",
    "        actions = []\n",
    "        rewards = []\n",
    "        probs = []\n",
    "        for t in range(t_max):\n",
    "            #get input state as difference between two states\n",
    "            current_state = state\n",
    "            input_state = current_state - previous_state if previous_state is not None else np.zeros(80*80)\n",
    "            previous_state = current_state\n",
    "            #convert input to tensor\n",
    "            state_tensor = torch.FloatTensor(input_state)[None]\n",
    "            #get probability of doing an action\n",
    "            prob = policy(state_tensor).squeeze().detach().numpy()\n",
    "            #select action based on probability\n",
    "            action = np.random.choice([2,3],p=prob)\n",
    "            #environment step\n",
    "            state, reward, done, info = env.step(action)\n",
    "\n",
    "            #append trajectories\n",
    "            probs.append(prob[action-2])\n",
    "            states.append(input_state)\n",
    "            actions.append(action-2)\n",
    "            rewards.append(reward)\n",
    "            #preprocess next state\n",
    "            state = preprocess_state(state)\n",
    "            if done: break\n",
    "        if done: break\n",
    "        trajectories.append((probs, states,actions,rewards))\n",
    "    return(trajectories)"
   ]
  },
  {
   "cell_type": "code",
   "execution_count": 14,
   "metadata": {},
   "outputs": [
    {
     "data": {
      "text/plain": [
       "2"
      ]
     },
     "execution_count": 14,
     "metadata": {},
     "output_type": "execute_result"
    }
   ],
   "source": [
    "trajectories = get_trajectories(policy,env)\n",
    "len(trajectories)"
   ]
  },
  {
   "cell_type": "markdown",
   "metadata": {},
   "source": [
    "### Gradient Ascent"
   ]
  },
  {
   "cell_type": "markdown",
   "metadata": {},
   "source": [
    "The last and most important step is to optimize the policy network so that given a state, it will be more likely to perform an action that would maximize the **expected discounted rewards** $U(\\theta)$:\n",
    "\n",
    "$$U(\\theta) = \\sum_{\\tau} P(\\tau;\\theta) R(\\tau) = \\frac{1}{m}\\sum_{i=1}^{m} \\sum_{t=0}^{H}log\\pi_{\\theta}(a^i_t|s^i_t)R(\\tau^i) = \\frac{1}{m}\\sum_{i=1}^{m} \\sum_{t=0}^{H}log\\pi_{\\theta}(a^i_t|s^i_t)R(\\tau^i)$$\n",
    "\n",
    "where\n",
    "* $\\tau$ is a trajectory\n",
    "* $\\theta$ is a set of parameters for the policy network\n",
    "* $P(\\tau; \\theta)$ is the probability of trajectory $\\tau$ given parameters $\\theta$\n",
    "* $R(\\tau)$ is the discounted rewards of trajectory $\\tau$\n",
    "* $i$ denotes a trajectory\n",
    "* $t$ denotes a timestep within a trajectory\n",
    "\n",
    "In human terms, \n",
    "1. Collect some trajectories with some number of timesteps, say 300 since it's about half the game.\n",
    "2. For each trajectory we have, find the sum of log(probability of action we did) * discounted rewards of that trajectory.\n",
    "3. Decide if how often you want to update your policy network. For instance, if you want to update every 5 trajectories, average 2. calculated from all 5 of them.\n",
    "4. Perform gradient ascent to update the policy network."
   ]
  },
  {
   "cell_type": "code",
   "execution_count": 15,
   "metadata": {},
   "outputs": [],
   "source": [
    "def surrogate(policy, trajectory, discount = 0.995, beta=0.01):\n",
    "    #expand trajectories\n",
    "    probs,states,actions,rewards = trajectory\n",
    "\n",
    "    #calculate normalized future rewards\n",
    "    #get discount rates\n",
    "    discount = discount**np.arange(len(rewards))\n",
    "    #get discounted rewards and expand to number of timesteps collected\n",
    "    rewards = np.array(rewards)*discount[:,np.newaxis]\n",
    "    #get discounted rewards for each timestep\n",
    "    rewards_future = rewards[::-1].cumsum(axis=0)[::-1]\n",
    "    #normalize the rewards to stabilize things\n",
    "    mean = np.mean(rewards_future, axis=1)\n",
    "    std = np.std(rewards_future, axis=1) + 1.0e-10\n",
    "    rewards_normalized = (rewards_future - mean[:,np.newaxis])/std[:,np.newaxis]\n",
    "\n",
    "    #convert trajectory into tensors\n",
    "    actions = torch.tensor(actions, dtype=torch.long, device=device)\n",
    "    old_probs = torch.tensor(probs, dtype=torch.float, device=device)\n",
    "    rewards = torch.tensor(rewards_normalized, dtype=torch.float, device=device)\n",
    "    states = torch.tensor(states, dtype=torch.float, device=device)\n",
    "    new_probs = policy(states).gather(1,actions.reshape(-1,1)).squeeze()\n",
    "\n",
    "    #ratio or log\n",
    "    ratio = new_probs/old_probs\n",
    "#     ratio = torch.log(new_probs)\n",
    "\n",
    "    #regularization term\n",
    "    reg = -(new_probs*torch.log(old_probs+1.e-10)+ (1.0-new_probs)*torch.log(1.0-old_probs+1.e-10))\n",
    "    return(torch.mean(ratio*rewards + beta*reg))"
   ]
  },
  {
   "cell_type": "code",
   "execution_count": 17,
   "metadata": {},
   "outputs": [
    {
     "data": {
      "text/plain": [
       "tensor(0.0069, grad_fn=<MeanBackward1>)"
      ]
     },
     "execution_count": 17,
     "metadata": {},
     "output_type": "execute_result"
    }
   ],
   "source": [
    "trajectory = trajectories[0]\n",
    "L = surrogate(policy,trajectory)\n",
    "L"
   ]
  },
  {
   "cell_type": "markdown",
   "metadata": {},
   "source": [
    "## Training"
   ]
  },
  {
   "cell_type": "code",
   "execution_count": 20,
   "metadata": {},
   "outputs": [
    {
     "name": "stderr",
     "output_type": "stream",
     "text": [
      "  3%|▎         | 100/3000 [03:01<1:27:34,  1.81s/it]"
     ]
    },
    {
     "name": "stdout",
     "output_type": "stream",
     "text": [
      "-14.49\n"
     ]
    },
    {
     "name": "stderr",
     "output_type": "stream",
     "text": [
      "  7%|▋         | 200/3000 [05:50<1:21:46,  1.75s/it]"
     ]
    },
    {
     "name": "stdout",
     "output_type": "stream",
     "text": [
      "-18.84\n"
     ]
    },
    {
     "name": "stderr",
     "output_type": "stream",
     "text": [
      " 10%|█         | 300/3000 [08:30<1:16:32,  1.70s/it]"
     ]
    },
    {
     "name": "stdout",
     "output_type": "stream",
     "text": [
      "-18.15\n"
     ]
    },
    {
     "name": "stderr",
     "output_type": "stream",
     "text": [
      " 10%|█         | 301/3000 [08:31<1:16:30,  1.70s/it]"
     ]
    },
    {
     "ename": "KeyboardInterrupt",
     "evalue": "",
     "output_type": "error",
     "traceback": [
      "\u001b[0;31m---------------------------------------------------------------------------\u001b[0m",
      "\u001b[0;31mKeyboardInterrupt\u001b[0m                         Traceback (most recent call last)",
      "\u001b[0;32m<ipython-input-20-36d81420f21d>\u001b[0m in \u001b[0;36m<module>\u001b[0;34m()\u001b[0m\n\u001b[1;32m      7\u001b[0m \u001b[0;32mfor\u001b[0m \u001b[0me\u001b[0m \u001b[0;32min\u001b[0m \u001b[0mtrange\u001b[0m\u001b[0;34m(\u001b[0m\u001b[0mepisode\u001b[0m\u001b[0;34m)\u001b[0m\u001b[0;34m:\u001b[0m\u001b[0;34m\u001b[0m\u001b[0m\n\u001b[1;32m      8\u001b[0m     \u001b[0;31m# collect trajectories\u001b[0m\u001b[0;34m\u001b[0m\u001b[0;34m\u001b[0m\u001b[0m\n\u001b[0;32m----> 9\u001b[0;31m     \u001b[0mtrajectories\u001b[0m \u001b[0;34m=\u001b[0m \u001b[0mget_trajectories\u001b[0m\u001b[0;34m(\u001b[0m\u001b[0mpolicy\u001b[0m\u001b[0;34m,\u001b[0m\u001b[0menv\u001b[0m\u001b[0;34m,\u001b[0m\u001b[0mt_max\u001b[0m\u001b[0;34m=\u001b[0m\u001b[0;36m700\u001b[0m\u001b[0;34m)\u001b[0m\u001b[0;34m\u001b[0m\u001b[0m\n\u001b[0m\u001b[1;32m     10\u001b[0m     \u001b[0mscore\u001b[0m \u001b[0;34m=\u001b[0m \u001b[0;36m0\u001b[0m\u001b[0;34m\u001b[0m\u001b[0m\n\u001b[1;32m     11\u001b[0m \u001b[0;34m\u001b[0m\u001b[0m\n",
      "\u001b[0;32m<ipython-input-13-4cd43fb40fda>\u001b[0m in \u001b[0;36mget_trajectories\u001b[0;34m(policy, env, t_max)\u001b[0m\n\u001b[1;32m     32\u001b[0m             \u001b[0maction\u001b[0m \u001b[0;34m=\u001b[0m \u001b[0mnp\u001b[0m\u001b[0;34m.\u001b[0m\u001b[0mrandom\u001b[0m\u001b[0;34m.\u001b[0m\u001b[0mchoice\u001b[0m\u001b[0;34m(\u001b[0m\u001b[0;34m[\u001b[0m\u001b[0;36m2\u001b[0m\u001b[0;34m,\u001b[0m\u001b[0;36m3\u001b[0m\u001b[0;34m]\u001b[0m\u001b[0;34m,\u001b[0m\u001b[0mp\u001b[0m\u001b[0;34m=\u001b[0m\u001b[0mprob\u001b[0m\u001b[0;34m)\u001b[0m\u001b[0;34m\u001b[0m\u001b[0m\n\u001b[1;32m     33\u001b[0m             \u001b[0;31m#environment step\u001b[0m\u001b[0;34m\u001b[0m\u001b[0;34m\u001b[0m\u001b[0m\n\u001b[0;32m---> 34\u001b[0;31m             \u001b[0mstate\u001b[0m\u001b[0;34m,\u001b[0m \u001b[0mreward\u001b[0m\u001b[0;34m,\u001b[0m \u001b[0mdone\u001b[0m\u001b[0;34m,\u001b[0m \u001b[0minfo\u001b[0m \u001b[0;34m=\u001b[0m \u001b[0menv\u001b[0m\u001b[0;34m.\u001b[0m\u001b[0mstep\u001b[0m\u001b[0;34m(\u001b[0m\u001b[0maction\u001b[0m\u001b[0;34m)\u001b[0m\u001b[0;34m\u001b[0m\u001b[0m\n\u001b[0m\u001b[1;32m     35\u001b[0m \u001b[0;34m\u001b[0m\u001b[0m\n\u001b[1;32m     36\u001b[0m             \u001b[0;31m#append trajectories\u001b[0m\u001b[0;34m\u001b[0m\u001b[0;34m\u001b[0m\u001b[0m\n",
      "\u001b[0;32m~/anaconda3/envs/drlnd/lib/python3.6/site-packages/gym/wrappers/time_limit.py\u001b[0m in \u001b[0;36mstep\u001b[0;34m(self, action)\u001b[0m\n\u001b[1;32m     29\u001b[0m     \u001b[0;32mdef\u001b[0m \u001b[0mstep\u001b[0m\u001b[0;34m(\u001b[0m\u001b[0mself\u001b[0m\u001b[0;34m,\u001b[0m \u001b[0maction\u001b[0m\u001b[0;34m)\u001b[0m\u001b[0;34m:\u001b[0m\u001b[0;34m\u001b[0m\u001b[0m\n\u001b[1;32m     30\u001b[0m         \u001b[0;32massert\u001b[0m \u001b[0mself\u001b[0m\u001b[0;34m.\u001b[0m\u001b[0m_episode_started_at\u001b[0m \u001b[0;32mis\u001b[0m \u001b[0;32mnot\u001b[0m \u001b[0;32mNone\u001b[0m\u001b[0;34m,\u001b[0m \u001b[0;34m\"Cannot call env.step() before calling reset()\"\u001b[0m\u001b[0;34m\u001b[0m\u001b[0m\n\u001b[0;32m---> 31\u001b[0;31m         \u001b[0mobservation\u001b[0m\u001b[0;34m,\u001b[0m \u001b[0mreward\u001b[0m\u001b[0;34m,\u001b[0m \u001b[0mdone\u001b[0m\u001b[0;34m,\u001b[0m \u001b[0minfo\u001b[0m \u001b[0;34m=\u001b[0m \u001b[0mself\u001b[0m\u001b[0;34m.\u001b[0m\u001b[0menv\u001b[0m\u001b[0;34m.\u001b[0m\u001b[0mstep\u001b[0m\u001b[0;34m(\u001b[0m\u001b[0maction\u001b[0m\u001b[0;34m)\u001b[0m\u001b[0;34m\u001b[0m\u001b[0m\n\u001b[0m\u001b[1;32m     32\u001b[0m         \u001b[0mself\u001b[0m\u001b[0;34m.\u001b[0m\u001b[0m_elapsed_steps\u001b[0m \u001b[0;34m+=\u001b[0m \u001b[0;36m1\u001b[0m\u001b[0;34m\u001b[0m\u001b[0m\n\u001b[1;32m     33\u001b[0m \u001b[0;34m\u001b[0m\u001b[0m\n",
      "\u001b[0;32m~/anaconda3/envs/drlnd/lib/python3.6/site-packages/gym/envs/atari/atari_env.py\u001b[0m in \u001b[0;36mstep\u001b[0;34m(self, a)\u001b[0m\n\u001b[1;32m     73\u001b[0m             \u001b[0mnum_steps\u001b[0m \u001b[0;34m=\u001b[0m \u001b[0mself\u001b[0m\u001b[0;34m.\u001b[0m\u001b[0mnp_random\u001b[0m\u001b[0;34m.\u001b[0m\u001b[0mrandint\u001b[0m\u001b[0;34m(\u001b[0m\u001b[0mself\u001b[0m\u001b[0;34m.\u001b[0m\u001b[0mframeskip\u001b[0m\u001b[0;34m[\u001b[0m\u001b[0;36m0\u001b[0m\u001b[0;34m]\u001b[0m\u001b[0;34m,\u001b[0m \u001b[0mself\u001b[0m\u001b[0;34m.\u001b[0m\u001b[0mframeskip\u001b[0m\u001b[0;34m[\u001b[0m\u001b[0;36m1\u001b[0m\u001b[0;34m]\u001b[0m\u001b[0;34m)\u001b[0m\u001b[0;34m\u001b[0m\u001b[0m\n\u001b[1;32m     74\u001b[0m         \u001b[0;32mfor\u001b[0m \u001b[0m_\u001b[0m \u001b[0;32min\u001b[0m \u001b[0mrange\u001b[0m\u001b[0;34m(\u001b[0m\u001b[0mnum_steps\u001b[0m\u001b[0;34m)\u001b[0m\u001b[0;34m:\u001b[0m\u001b[0;34m\u001b[0m\u001b[0m\n\u001b[0;32m---> 75\u001b[0;31m             \u001b[0mreward\u001b[0m \u001b[0;34m+=\u001b[0m \u001b[0mself\u001b[0m\u001b[0;34m.\u001b[0m\u001b[0male\u001b[0m\u001b[0;34m.\u001b[0m\u001b[0mact\u001b[0m\u001b[0;34m(\u001b[0m\u001b[0maction\u001b[0m\u001b[0;34m)\u001b[0m\u001b[0;34m\u001b[0m\u001b[0m\n\u001b[0m\u001b[1;32m     76\u001b[0m         \u001b[0mob\u001b[0m \u001b[0;34m=\u001b[0m \u001b[0mself\u001b[0m\u001b[0;34m.\u001b[0m\u001b[0m_get_obs\u001b[0m\u001b[0;34m(\u001b[0m\u001b[0;34m)\u001b[0m\u001b[0;34m\u001b[0m\u001b[0m\n\u001b[1;32m     77\u001b[0m \u001b[0;34m\u001b[0m\u001b[0m\n",
      "\u001b[0;32m~/anaconda3/envs/drlnd/lib/python3.6/site-packages/atari_py/ale_python_interface.py\u001b[0m in \u001b[0;36mact\u001b[0;34m(self, action)\u001b[0m\n\u001b[1;32m    134\u001b[0m \u001b[0;34m\u001b[0m\u001b[0m\n\u001b[1;32m    135\u001b[0m     \u001b[0;32mdef\u001b[0m \u001b[0mact\u001b[0m\u001b[0;34m(\u001b[0m\u001b[0mself\u001b[0m\u001b[0;34m,\u001b[0m \u001b[0maction\u001b[0m\u001b[0;34m)\u001b[0m\u001b[0;34m:\u001b[0m\u001b[0;34m\u001b[0m\u001b[0m\n\u001b[0;32m--> 136\u001b[0;31m         \u001b[0;32mreturn\u001b[0m \u001b[0male_lib\u001b[0m\u001b[0;34m.\u001b[0m\u001b[0mact\u001b[0m\u001b[0;34m(\u001b[0m\u001b[0mself\u001b[0m\u001b[0;34m.\u001b[0m\u001b[0mobj\u001b[0m\u001b[0;34m,\u001b[0m \u001b[0mint\u001b[0m\u001b[0;34m(\u001b[0m\u001b[0maction\u001b[0m\u001b[0;34m)\u001b[0m\u001b[0;34m)\u001b[0m\u001b[0;34m\u001b[0m\u001b[0m\n\u001b[0m\u001b[1;32m    137\u001b[0m \u001b[0;34m\u001b[0m\u001b[0m\n\u001b[1;32m    138\u001b[0m     \u001b[0;32mdef\u001b[0m \u001b[0mgame_over\u001b[0m\u001b[0;34m(\u001b[0m\u001b[0mself\u001b[0m\u001b[0;34m)\u001b[0m\u001b[0;34m:\u001b[0m\u001b[0;34m\u001b[0m\u001b[0m\n",
      "\u001b[0;31mKeyboardInterrupt\u001b[0m: "
     ]
    }
   ],
   "source": [
    "episode = 3000\n",
    "epsilon = 0.1\n",
    "beta = .01\n",
    "# keep track of progress\n",
    "scores = []\n",
    "\n",
    "for e in trange(episode):\n",
    "    # collect trajectories\n",
    "    trajectories = get_trajectories(policy,env,t_max=700)\n",
    "    score = 0\n",
    "    \n",
    "    #update with each trajectory\n",
    "    for trajectory in trajectories:\n",
    "        probs, states, actions, rewards = trajectory\n",
    "        score+= np.sum(rewards)\n",
    "        L = -surrogate_clipped(policy, trajectory, epsilon=epsilon, beta=beta)\n",
    "\n",
    "        #run optimizer\n",
    "        optimizer.zero_grad()\n",
    "        L.backward()\n",
    "        optimizer.step()\n",
    "    \n",
    "    #record score\n",
    "    scores.append(score)\n",
    "    if (e+1) % 100 ==0: \n",
    "        last_hundred = np.mean(scores[-100:])\n",
    "        print(last_hundred)\n",
    "        if last_hundred > 0: print(f'Solved at {e}')\n",
    "    \n",
    "    #decrease exploration as time goes on\n",
    "    beta*=.995\n",
    "    epsilon*=.999"
   ]
  },
  {
   "cell_type": "markdown",
   "metadata": {},
   "source": [
    "### Bonus: How to Derive Gradients of Policy Network"
   ]
  },
  {
   "cell_type": "markdown",
   "metadata": {},
   "source": [
    "<img src=\"img/reinforce_derivation1.png\" alt=\"Derivation 1\"/>\n",
    "<img src=\"img/reinforce_derivation2.png\" alt=\"Derivation 2\"/>"
   ]
  },
  {
   "cell_type": "markdown",
   "metadata": {},
   "source": [
    "## Proximal Policy Optimization (PPO)"
   ]
  },
  {
   "cell_type": "code",
   "execution_count": 18,
   "metadata": {},
   "outputs": [],
   "source": [
    "def surrogate_clipped(policy, trajectory, discount = 0.995, epsilon=0.1, beta=0.01):\n",
    "    #expand trajectories\n",
    "    probs, states,actions,rewards = trajectory\n",
    "\n",
    "    #calculate normalized future rewards\n",
    "    #get discount rates\n",
    "    discount = discount**np.arange(len(rewards))\n",
    "    #get discounted rewards and expand to number of timesteps collected\n",
    "    rewards = np.array(rewards)*discount[:,np.newaxis]\n",
    "    #get discounted rewards for each timestep\n",
    "    rewards_future = rewards[::-1].cumsum(axis=0)[::-1]\n",
    "    #normalize the rewards to stabilize things\n",
    "    mean = np.mean(rewards_future, axis=1)\n",
    "    std = np.std(rewards_future, axis=1) + 1.0e-10\n",
    "    rewards_normalized = (rewards_future - mean[:,np.newaxis])/std[:,np.newaxis]\n",
    "\n",
    "    #convert trajectory into tensors\n",
    "    actions = torch.tensor(actions, dtype=torch.long, device=device)\n",
    "    old_probs = torch.tensor(probs, dtype=torch.float, device=device)\n",
    "    rewards = torch.tensor(rewards_normalized, dtype=torch.float, device=device)\n",
    "    states = torch.tensor(states, dtype=torch.float, device=device)\n",
    "    new_probs = policy(states).gather(1,actions.reshape(-1,1)).squeeze()\n",
    "\n",
    "    #ratio or log\n",
    "    ratio = new_probs/old_probs\n",
    "#     ratio = torch.log(new_probs)\n",
    "\n",
    "    #clip ratio; the only difference between REINFORCE and PPO\n",
    "    ratio_clipped = torch.clamp(ratio, 1-epsilon, 1+epsilon)\n",
    "    ratio_final = torch.min(ratio*rewards, ratio_clipped*rewards)\n",
    "    \n",
    "    #regularization term\n",
    "    reg = -(new_probs*torch.log(old_probs+1.e-10)+ (1.0-new_probs)*torch.log(1.0-old_probs+1.e-10))\n",
    "    return(torch.mean(ratio_final*rewards + beta*reg))"
   ]
  },
  {
   "cell_type": "code",
   "execution_count": 19,
   "metadata": {},
   "outputs": [
    {
     "data": {
      "text/plain": [
       "tensor(1.0069, grad_fn=<MeanBackward1>)"
      ]
     },
     "execution_count": 19,
     "metadata": {},
     "output_type": "execute_result"
    }
   ],
   "source": [
    "trajectory = trajectories[0]\n",
    "L = surrogate_clipped(policy,trajectory)\n",
    "L"
   ]
  },
  {
   "cell_type": "markdown",
   "metadata": {},
   "source": [
    "## Solutions"
   ]
  },
  {
   "cell_type": "markdown",
   "metadata": {},
   "source": [
    "### Pong Diagnostics"
   ]
  },
  {
   "cell_type": "code",
   "execution_count": 6,
   "metadata": {},
   "outputs": [
    {
     "data": {
      "text/plain": [
       "(Box(210, 160, 3), Discrete(6))"
      ]
     },
     "execution_count": 6,
     "metadata": {},
     "output_type": "execute_result"
    }
   ],
   "source": [
    "env.observation_space, env.action_space"
   ]
  },
  {
   "cell_type": "code",
   "execution_count": 22,
   "metadata": {},
   "outputs": [
    {
     "name": "stderr",
     "output_type": "stream",
     "text": [
      "100%|██████████| 30/30 [00:13<00:00,  2.24it/s]\n"
     ]
    },
    {
     "data": {
      "text/plain": [
       "764.0"
      ]
     },
     "execution_count": 22,
     "metadata": {},
     "output_type": "execute_result"
    },
    {
     "data": {
      "image/png": "[encoded data removed]",
      "text/plain": [
       "<Figure size 432x288 with 1 Axes>"
      ]
     },
     "metadata": {},
     "output_type": "display_data"
    }
   ],
   "source": [
    "action = np.random.choice([2,3])\n",
    "ep_lens = []\n",
    "\n",
    "for i in trange(30):\n",
    "    env.reset()\n",
    "    ep_len = 0\n",
    "    while True:\n",
    "        ep_len +=1\n",
    "        state, reward, done, info = env.step(action)\n",
    "        if done: break\n",
    "    ep_lens.append(ep_len)\n",
    "    \n",
    "plt.hist(ep_lens)\n",
    "np.mean(ep_lens)"
   ]
  },
  {
   "cell_type": "code",
   "execution_count": 21,
   "metadata": {},
   "outputs": [
    {
     "data": {
      "text/plain": [
       "<matplotlib.image.AxesImage at 0x7f2539a2bfd0>"
      ]
     },
     "execution_count": 21,
     "metadata": {},
     "output_type": "execute_result"
    },
    {
     "data": {
      "image/png": "[encoded data removed]",
      "text/plain": [
       "<Figure size 432x288 with 1 Axes>"
      ]
     },
     "metadata": {},
     "output_type": "display_data"
    }
   ],
   "source": [
    "plt.imshow(state)"
   ]
  },
  {
   "cell_type": "code",
   "execution_count": null,
   "metadata": {},
   "outputs": [],
   "source": []
  }
 ],
 "metadata": {
  "kernelspec": {
   "display_name": "drlnd",
   "language": "python",
   "name": "drlnd"
  },
  "language_info": {
   "codemirror_mode": {
    "name": "ipython",
    "version": 3
   },
   "file_extension": ".py",
   "mimetype": "text/x-python",
   "name": "python",
   "nbconvert_exporter": "python",
   "pygments_lexer": "ipython3",
   "version": "3.6.6"
  }
 },
 "nbformat": 4,
 "nbformat_minor": 2
}
